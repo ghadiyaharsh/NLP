{
 "cells": [
  {
   "cell_type": "markdown",
   "id": "15eaff7a",
   "metadata": {},
   "source": [
    "# write a program to extract features from text"
   ]
  },
  {
   "cell_type": "markdown",
   "id": "395fde50",
   "metadata": {},
   "source": [
    "## Why do we need feature extraction in NLP?\n",
    "Computers do not understand raw text.\n",
    "\n",
    "They only understand numbers.\n",
    "\n",
    "So, before applying Machine Learning / Deep Learning models, we must convert text → numerical features.\n",
    "\n",
    "Feature extraction captures meaningful information from text (like word counts, importance, context)."
   ]
  },
  {
   "cell_type": "markdown",
   "id": "c94f1b03",
   "metadata": {},
   "source": [
    "## Common Feature Extraction Techniques\n",
    "\n",
    "### Bag of Words (BoW)\n",
    "\n",
    "Treats text as a collection of words.\n",
    "\n",
    "Ignores grammar & word order.\n",
    "\n",
    "Represents text by counting how many times each word appears.\n",
    "\n",
    "Example:\n",
    "\n",
    "Texts: [\"I love NLP\", \"NLP loves Python\"]\n",
    "\n",
    "Vocabulary = {I, love, NLP, loves, Python}\n",
    "\n",
    "Features =\n",
    "\n",
    "[1, 1, 1, 0, 0] (for \"I love NLP\")\n",
    "\n",
    "[0, 0, 1, 1, 1] (for \"NLP loves Python\")\n",
    "\n",
    "### TF–IDF (Term Frequency – Inverse Document Frequency)\n",
    "\n",
    "Not all words are equally important.\n",
    "\n",
    "Words like \"the\", \"is\" appear everywhere, but they don’t add much meaning.\n",
    "\n",
    "TF–IDF reduces the weight of common words and increases weight of rare, important words.\n",
    "\n",
    "Formula:\n",
    "\n",
    "TF (Term Frequency) = No. of times a word appears / Total words in the document\n",
    "\n",
    "IDF (Inverse Document Frequency) = log(Total documents / Documents containing the word)\n",
    "\n",
    "TF-IDF = TF × IDF"
   ]
  },
  {
   "cell_type": "code",
   "execution_count": 13,
   "id": "f24903fa",
   "metadata": {},
   "outputs": [],
   "source": [
    "from sklearn.feature_extraction.text import CountVectorizer, TfidfVectorizer"
   ]
  },
  {
   "cell_type": "code",
   "execution_count": 14,
   "id": "bf661f03",
   "metadata": {},
   "outputs": [],
   "source": [
    "documenets =[\n",
    "    \"Natural Language Processing makes machines understand text.\",\n",
    "    \"Text mining and NLP are used in machine learning.\",\n",
    "    \"Feature extraction converts text into numerical form.\"\n",
    "]\n"
   ]
  },
  {
   "cell_type": "code",
   "execution_count": 16,
   "id": "162f4e1b",
   "metadata": {},
   "outputs": [
    {
     "name": "stdout",
     "output_type": "stream",
     "text": [
      "------Bag of Words(BOW)-------\n",
      "Vocabulary: ['and' 'are' 'converts' 'extraction' 'feature' 'form' 'in' 'into'\n",
      " 'language' 'learning' 'machine' 'machines' 'makes' 'mining' 'natural'\n",
      " 'nlp' 'numerical' 'processing' 'text' 'understand' 'used']\n",
      "BoW Matrix:\n",
      " [[0 0 0 0 0 0 0 0 1 0 0 1 1 0 1 0 0 1 1 1 0]\n",
      " [1 1 0 0 0 0 1 0 0 1 1 0 0 1 0 1 0 0 1 0 1]\n",
      " [0 0 1 1 1 1 0 1 0 0 0 0 0 0 0 0 1 0 1 0 0]]\n"
     ]
    }
   ],
   "source": [
    "#Bag of Words\n",
    "print(\"------Bag of Words(BOW)-------\")\n",
    "Vectorizer = CountVectorizer()\n",
    "X_bow = Vectorizer.fit_transform(documenets)\n",
    "print(\"Vocabulary:\",Vectorizer.get_feature_names_out())\n",
    "print(\"BoW Matrix:\\n\",X_bow.toarray())"
   ]
  },
  {
   "cell_type": "code",
   "execution_count": 20,
   "id": "36173b08",
   "metadata": {},
   "outputs": [
    {
     "name": "stdout",
     "output_type": "stream",
     "text": [
      "\n",
      "----- TF-IDF -----\n",
      "Vocabulary: ['and' 'are' 'converts' 'extraction' 'feature' 'form' 'in' 'into'\n",
      " 'language' 'learning' 'machine' 'machines' 'makes' 'mining' 'natural'\n",
      " 'nlp' 'numerical' 'processing' 'text' 'understand' 'used']\n",
      "TF-IDF Matrix:\n",
      " [[0.         0.         0.         0.         0.         0.\n",
      "  0.         0.         0.39687454 0.         0.         0.39687454\n",
      "  0.39687454 0.         0.39687454 0.         0.         0.39687454\n",
      "  0.2344005  0.39687454 0.        ]\n",
      " [0.34608857 0.34608857 0.         0.         0.         0.\n",
      "  0.34608857 0.         0.         0.34608857 0.34608857 0.\n",
      "  0.         0.34608857 0.         0.34608857 0.         0.\n",
      "  0.20440549 0.         0.34608857]\n",
      " [0.         0.         0.39687454 0.39687454 0.39687454 0.39687454\n",
      "  0.         0.39687454 0.         0.         0.         0.\n",
      "  0.         0.         0.         0.         0.39687454 0.\n",
      "  0.2344005  0.         0.        ]]\n"
     ]
    }
   ],
   "source": [
    "# TF-IDF\n",
    "print(\"\\n----- TF-IDF -----\")\n",
    "tfidf = TfidfVectorizer()\n",
    "X_tfidf = tfidf.fit_transform(documenets)\n",
    "print(\"Vocabulary:\", tfidf.get_feature_names_out())\n",
    "print(\"TF-IDF Matrix:\\n\", X_tfidf.toarray())"
   ]
  }
 ],
 "metadata": {
  "kernelspec": {
   "display_name": "Python 3",
   "language": "python",
   "name": "python3"
  },
  "language_info": {
   "codemirror_mode": {
    "name": "ipython",
    "version": 3
   },
   "file_extension": ".py",
   "mimetype": "text/x-python",
   "name": "python",
   "nbconvert_exporter": "python",
   "pygments_lexer": "ipython3",
   "version": "3.12.8"
  }
 },
 "nbformat": 4,
 "nbformat_minor": 5
}
