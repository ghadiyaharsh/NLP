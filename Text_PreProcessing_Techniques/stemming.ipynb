{
 "cells": [
  {
   "cell_type": "markdown",
   "id": "e2312192",
   "metadata": {},
   "source": [
    "Stemming\n",
    "\n",
    "Reduces words to their root form (but sometimes not meaningful).\n",
    "\n",
    "Example:\n",
    "\"playing\", \"played\",          \"plays\" → \"play\"\n",
    "                                                    \"running\" → \"run\""
   ]
  },
  {
   "cell_type": "code",
   "execution_count": null,
   "id": "04caa6c8",
   "metadata": {},
   "outputs": [],
   "source": [
    "from nltk.stem import PorterStemmer #porter stemmer is a common stemming algorithm which removes common morphological and inflectional endings from words in English."
   ]
  },
  {
   "cell_type": "code",
   "execution_count": 3,
   "id": "cc936d30",
   "metadata": {},
   "outputs": [],
   "source": [
    "ps = PorterStemmer()\n",
    "words = [\"program\", \"programs\", \"programmer\", \"programming\", \"programmed\"]"
   ]
  },
  {
   "cell_type": "code",
   "execution_count": 4,
   "id": "9b594b48",
   "metadata": {},
   "outputs": [
    {
     "name": "stdout",
     "output_type": "stream",
     "text": [
      "['program', 'programs', 'programmer', 'programming', 'programmed']\n"
     ]
    }
   ],
   "source": [
    "print(words)"
   ]
  },
  {
   "cell_type": "code",
   "execution_count": 5,
   "id": "923426c0",
   "metadata": {},
   "outputs": [
    {
     "name": "stdout",
     "output_type": "stream",
     "text": [
      "original word --> stemmed word\n",
      "program --> program\n",
      "programs --> program\n",
      "programmer --> programm\n",
      "programming --> program\n",
      "programmed --> program\n"
     ]
    }
   ],
   "source": [
    "print(\"original word --> stemmed word\")\n",
    "for w in words:\n",
    "    print(w, \"-->\", ps.stem(w))"
   ]
  },
  {
   "cell_type": "code",
   "execution_count": 6,
   "id": "64b342d2",
   "metadata": {},
   "outputs": [
    {
     "name": "stdout",
     "output_type": "stream",
     "text": [
      "program\n"
     ]
    }
   ],
   "source": [
    "#another easy way \n",
    "print(ps.stem(\"programming\"))"
   ]
  },
  {
   "cell_type": "code",
   "execution_count": 11,
   "id": "f6ad0b71",
   "metadata": {},
   "outputs": [
    {
     "name": "stdout",
     "output_type": "stream",
     "text": [
      "program\n"
     ]
    }
   ],
   "source": [
    "print(ps.stem(words[3])) #programming"
   ]
  }
 ],
 "metadata": {
  "kernelspec": {
   "display_name": "Python 3",
   "language": "python",
   "name": "python3"
  },
  "language_info": {
   "codemirror_mode": {
    "name": "ipython",
    "version": 3
   },
   "file_extension": ".py",
   "mimetype": "text/x-python",
   "name": "python",
   "nbconvert_exporter": "python",
   "pygments_lexer": "ipython3",
   "version": "3.12.8"
  }
 },
 "nbformat": 4,
 "nbformat_minor": 5
}
