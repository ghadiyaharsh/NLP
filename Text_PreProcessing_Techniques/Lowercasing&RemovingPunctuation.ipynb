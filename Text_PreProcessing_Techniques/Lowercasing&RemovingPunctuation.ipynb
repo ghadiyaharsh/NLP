{
 "cells": [
  {
   "cell_type": "markdown",
   "id": "9fa24bad",
   "metadata": {},
   "source": [
    "Lowercasing & Removing Punctuation\n",
    "\n",
    "Standardizes text.\n",
    "\n",
    "Example: \"Hello, WORLD!\" → \"hello world\"."
   ]
  },
  {
   "cell_type": "code",
   "execution_count": 2,
   "id": "76cc378c",
   "metadata": {},
   "outputs": [],
   "source": [
    "import re #regualr expression\n"
   ]
  },
  {
   "cell_type": "code",
   "execution_count": 3,
   "id": "3684c609",
   "metadata": {},
   "outputs": [],
   "source": [
    "text = \"Hello , WORLD! Welcome to NLP. NLP is fun. Let's learn NLP together, and make the world better.\"\n",
    "\n",
    "text = text.lower() #lowercasing\n",
    "text = re.sub(r'[^\\w\\s]', '', text) #removing punctuation"
   ]
  },
  {
   "cell_type": "code",
   "execution_count": 4,
   "id": "ca32792b",
   "metadata": {},
   "outputs": [
    {
     "name": "stdout",
     "output_type": "stream",
     "text": [
      "hello  world welcome to nlp nlp is fun lets learn nlp together and make the world better\n"
     ]
    }
   ],
   "source": [
    "print(text)"
   ]
  }
 ],
 "metadata": {
  "kernelspec": {
   "display_name": "Python 3",
   "language": "python",
   "name": "python3"
  },
  "language_info": {
   "codemirror_mode": {
    "name": "ipython",
    "version": 3
   },
   "file_extension": ".py",
   "mimetype": "text/x-python",
   "name": "python",
   "nbconvert_exporter": "python",
   "pygments_lexer": "ipython3",
   "version": "3.12.8"
  }
 },
 "nbformat": 4,
 "nbformat_minor": 5
}
