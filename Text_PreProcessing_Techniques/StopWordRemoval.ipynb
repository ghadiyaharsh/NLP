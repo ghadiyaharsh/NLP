{
 "cells": [
  {
   "cell_type": "markdown",
   "id": "58906707",
   "metadata": {},
   "source": [
    "### Stop Word Removal\n",
    "\n",
    "Stop word removal is a common preprocessing step in natural language processing (NLP) and text mining. Stop words are frequently occurring, insignificant words such as \"the\", \"is\", \"in\", \"and\", etc., which do not carry much meaning and are often removed from text data to improve the performance of text analysis tasks. By eliminating stop words, we reduce noise and focus on the more meaningful words in the text, making downstream tasks like text classification, clustering, and information retrieval more efficient and effective."
   ]
  },
  {
   "cell_type": "code",
   "execution_count": 1,
   "id": "a316bffa",
   "metadata": {},
   "outputs": [],
   "source": [
    "import nltk \n",
    "\n"
   ]
  },
  {
   "cell_type": "code",
   "execution_count": 2,
   "id": "11f4bf28",
   "metadata": {},
   "outputs": [],
   "source": [
    "text = \"this is a example of stop word removal in nltk . stop words are common words that do not add much meaning to a sentence . they are often filtered out in natural language processing tasks .\""
   ]
  },
  {
   "cell_type": "code",
   "execution_count": 3,
   "id": "df7552d7",
   "metadata": {},
   "outputs": [
    {
     "name": "stdout",
     "output_type": "stream",
     "text": [
      "this is a example of stop word removal in nltk . stop words are common words that do not add much meaning to a sentence . they are often filtered out in natural language processing tasks .\n"
     ]
    }
   ],
   "source": [
    "print(text)"
   ]
  },
  {
   "cell_type": "code",
   "execution_count": 4,
   "id": "9d7e17fb",
   "metadata": {},
   "outputs": [
    {
     "name": "stderr",
     "output_type": "stream",
     "text": [
      "[nltk_data] Downloading package stopwords to\n",
      "[nltk_data]     C:\\Users\\Asus\\AppData\\Roaming\\nltk_data...\n",
      "[nltk_data]   Package stopwords is already up-to-date!\n"
     ]
    },
    {
     "data": {
      "text/plain": [
       "True"
      ]
     },
     "execution_count": 4,
     "metadata": {},
     "output_type": "execute_result"
    }
   ],
   "source": [
    "from nltk.corpus import stopwords\n",
    "from nltk.tokenize import word_tokenize\n",
    "nltk.download('stopwords')"
   ]
  },
  {
   "cell_type": "code",
   "execution_count": null,
   "id": "5d230d99",
   "metadata": {},
   "outputs": [],
   "source": []
  }
 ],
 "metadata": {
  "kernelspec": {
   "display_name": "Python 3",
   "language": "python",
   "name": "python3"
  },
  "language_info": {
   "codemirror_mode": {
    "name": "ipython",
    "version": 3
   },
   "file_extension": ".py",
   "mimetype": "text/x-python",
   "name": "python",
   "nbconvert_exporter": "python",
   "pygments_lexer": "ipython3",
   "version": "3.12.8"
  }
 },
 "nbformat": 4,
 "nbformat_minor": 5
}
