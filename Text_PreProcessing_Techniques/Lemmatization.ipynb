{
 "cells": [
  {
   "cell_type": "markdown",
   "id": "4ba415af",
   "metadata": {},
   "source": [
    "Lemmatization\n",
    "\n",
    "Reduces words to dictionary form (lemma) using context (better than stemming).\n",
    "\n",
    "Example:\n",
    "\n",
    "\"better\" → \"good\"\n",
    "\n",
    "\"running\" → \"run\""
   ]
  },
  {
   "cell_type": "markdown",
   "id": "ead9a825",
   "metadata": {},
   "source": [
    "Library: WordNetLemmatizer (NLTK) or spacy."
   ]
  },
  {
   "cell_type": "code",
   "execution_count": 1,
   "id": "b6496433",
   "metadata": {},
   "outputs": [],
   "source": [
    "from nltk.stem import WordNetLemmatizer\n",
    "wnl = WordNetLemmatizer()"
   ]
  },
  {
   "cell_type": "code",
   "execution_count": 2,
   "id": "423508e9",
   "metadata": {},
   "outputs": [
    {
     "name": "stdout",
     "output_type": "stream",
     "text": [
      "['program', 'programs', 'programmer', 'programming', 'programmed']\n"
     ]
    }
   ],
   "source": [
    "words = [\"program\", \"programs\", \"programmer\", \"programming\", \"programmed\"]\n",
    "print(words)"
   ]
  },
  {
   "cell_type": "code",
   "execution_count": 3,
   "id": "42eabcb5",
   "metadata": {},
   "outputs": [
    {
     "name": "stdout",
     "output_type": "stream",
     "text": [
      "program\n",
      "programmer\n"
     ]
    }
   ],
   "source": [
    "print(wnl.lemmatize(\"programming\", pos='v')) #pos is part of speech\n",
    "print(wnl.lemmatize(\"programmer\", pos='n')) #n is noun"
   ]
  }
 ],
 "metadata": {
  "kernelspec": {
   "display_name": "Python 3",
   "language": "python",
   "name": "python3"
  },
  "language_info": {
   "codemirror_mode": {
    "name": "ipython",
    "version": 3
   },
   "file_extension": ".py",
   "mimetype": "text/x-python",
   "name": "python",
   "nbconvert_exporter": "python",
   "pygments_lexer": "ipython3",
   "version": "3.12.8"
  }
 },
 "nbformat": 4,
 "nbformat_minor": 5
}
