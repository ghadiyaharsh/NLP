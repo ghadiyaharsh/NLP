{
 "cells": [
  {
   "cell_type": "markdown",
   "id": "cad85816",
   "metadata": {},
   "source": [
    "Tokenization is the process of splitting text into smaller units called tokens.\n",
    "Tokens can be words, sentences, or subwords.\n",
    "It is a fundamental step in Natural Language Processing (NLP) tasks.\n",
    "Tokenization helps in understanding the structure and meaning of text."
   ]
  },
  {
   "cell_type": "code",
   "execution_count": 34,
   "id": "999b55b0",
   "metadata": {},
   "outputs": [
    {
     "name": "stderr",
     "output_type": "stream",
     "text": [
      "[nltk_data] Downloading package punkt to\n",
      "[nltk_data]     C:\\Users\\Asus\\AppData\\Roaming\\nltk_data...\n",
      "[nltk_data]   Package punkt is already up-to-date!\n"
     ]
    },
    {
     "data": {
      "text/plain": [
       "True"
      ]
     },
     "execution_count": 34,
     "metadata": {},
     "output_type": "execute_result"
    }
   ],
   "source": [
    "#nltk is a popular library for NLP tasks, including tokenization.\n",
    "\n",
    "import nltk\n",
    "nltk.download('punkt')"
   ]
  },
  {
   "cell_type": "code",
   "execution_count": 35,
   "id": "9c619f2a",
   "metadata": {},
   "outputs": [],
   "source": [
    "from nltk.tokenize import word_tokenize, sent_tokenize\n",
    " "
   ]
  },
  {
   "cell_type": "code",
   "execution_count": 36,
   "id": "73aae224",
   "metadata": {},
   "outputs": [],
   "source": [
    "text=\"Lorem Ipsum is simply dummy text of the printing and typesetting industry. Lorem Ipsum has been the industry's standard dummy text ever since the 1500s, when an unknown printer took a galley of type and scrambled it to make a type specimen book. It has survived not only five centuries, but also the leap into electronic typesetting, remaining essentially unchanged. It was popularised in the 1960s with the release of Letraset sheets containing Lorem Ipsum passages, and more recently with desktop publishing software like Aldus PageMaker including versions of Lorem Ipsum.\""
   ]
  },
  {
   "cell_type": "code",
   "execution_count": 37,
   "id": "bf297364",
   "metadata": {},
   "outputs": [
    {
     "name": "stdout",
     "output_type": "stream",
     "text": [
      "word_tokenize\n"
     ]
    }
   ],
   "source": [
    "print(\"word_tokenize\")"
   ]
  },
  {
   "cell_type": "code",
   "execution_count": 38,
   "id": "32bd4766",
   "metadata": {},
   "outputs": [
    {
     "name": "stdout",
     "output_type": "stream",
     "text": [
      "sent_tokenize\n"
     ]
    }
   ],
   "source": [
    "print(\"sent_tokenize\")"
   ]
  },
  {
   "cell_type": "code",
   "execution_count": 39,
   "id": "5ee3688e",
   "metadata": {},
   "outputs": [
    {
     "name": "stdout",
     "output_type": "stream",
     "text": [
      "Lorem\n",
      "Ipsum\n",
      "is\n",
      "simply\n",
      "dummy\n",
      "text\n",
      "of\n",
      "the\n",
      "printing\n",
      "and\n",
      "typesetting\n",
      "industry\n",
      ".\n",
      "Lorem\n",
      "Ipsum\n",
      "has\n",
      "been\n",
      "the\n",
      "industry\n",
      "'s\n",
      "standard\n",
      "dummy\n",
      "text\n",
      "ever\n",
      "since\n",
      "the\n",
      "1500s\n",
      ",\n",
      "when\n",
      "an\n",
      "unknown\n",
      "printer\n",
      "took\n",
      "a\n",
      "galley\n",
      "of\n",
      "type\n",
      "and\n",
      "scrambled\n",
      "it\n",
      "to\n",
      "make\n",
      "a\n",
      "type\n",
      "specimen\n",
      "book\n",
      ".\n",
      "It\n",
      "has\n",
      "survived\n",
      "not\n",
      "only\n",
      "five\n",
      "centuries\n",
      ",\n",
      "but\n",
      "also\n",
      "the\n",
      "leap\n",
      "into\n",
      "electronic\n",
      "typesetting\n",
      ",\n",
      "remaining\n",
      "essentially\n",
      "unchanged\n",
      ".\n",
      "It\n",
      "was\n",
      "popularised\n",
      "in\n",
      "the\n",
      "1960s\n",
      "with\n",
      "the\n",
      "release\n",
      "of\n",
      "Letraset\n",
      "sheets\n",
      "containing\n",
      "Lorem\n",
      "Ipsum\n",
      "passages\n",
      ",\n",
      "and\n",
      "more\n",
      "recently\n",
      "with\n",
      "desktop\n",
      "publishing\n",
      "software\n",
      "like\n",
      "Aldus\n",
      "PageMaker\n",
      "including\n",
      "versions\n",
      "of\n",
      "Lorem\n",
      "Ipsum\n",
      ".\n"
     ]
    }
   ],
   "source": [
    "\n",
    "for token in word_tokenize(text):\n",
    "    print(token)"
   ]
  },
  {
   "cell_type": "code",
   "execution_count": 40,
   "id": "7e1942f4",
   "metadata": {},
   "outputs": [
    {
     "name": "stdout",
     "output_type": "stream",
     "text": [
      "Lorem Ipsum is simply dummy text of the printing and typesetting industry.\n",
      "Lorem Ipsum has been the industry's standard dummy text ever since the 1500s, when an unknown printer took a galley of type and scrambled it to make a type specimen book.\n",
      "It has survived not only five centuries, but also the leap into electronic typesetting, remaining essentially unchanged.\n",
      "It was popularised in the 1960s with the release of Letraset sheets containing Lorem Ipsum passages, and more recently with desktop publishing software like Aldus PageMaker including versions of Lorem Ipsum.\n",
      "sent_tokenize\n"
     ]
    }
   ],
   "source": [
    "for sentence in sent_tokenize(text):\n",
    "    print(sentence)\n",
    "print(\"sent_tokenize\")"
   ]
  }
 ],
 "metadata": {
  "kernelspec": {
   "display_name": "Python 3",
   "language": "python",
   "name": "python3"
  },
  "language_info": {
   "codemirror_mode": {
    "name": "ipython",
    "version": 3
   },
   "file_extension": ".py",
   "mimetype": "text/x-python",
   "name": "python",
   "nbconvert_exporter": "python",
   "pygments_lexer": "ipython3",
   "version": "3.12.8"
  }
 },
 "nbformat": 4,
 "nbformat_minor": 5
}
